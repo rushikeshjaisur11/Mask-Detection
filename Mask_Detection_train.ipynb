{
  "nbformat": 4,
  "nbformat_minor": 0,
  "metadata": {
    "colab": {
      "name": "Mask Detection",
      "provenance": [],
      "collapsed_sections": []
    },
    "kernelspec": {
      "name": "python3",
      "display_name": "Python 3"
    },
    "accelerator": "GPU"
  },
  "cells": [
    {
      "cell_type": "code",
      "metadata": {
        "id": "OP3jWnsAuH1k",
        "colab_type": "code",
        "outputId": "7ee0d050-9a75-49ec-bd7a-98f8bb4f17af",
        "colab": {
          "base_uri": "https://localhost:8080/",
          "height": 272
        }
      },
      "source": [
        "!unrar x train.rar"
      ],
      "execution_count": 0,
      "outputs": [
        {
          "output_type": "stream",
          "text": [
            "\n",
            "UNRAR 5.50 freeware      Copyright (c) 1993-2017 Alexander Roshal\n",
            "\n",
            "\n",
            "Extracting from train.rar\n",
            "\n",
            "\n",
            "Would you like to replace the existing file train/mask/0.jpg\n",
            " 42994 bytes, modified on 2020-05-03 08:55\n",
            "with a new one\n",
            " 42994 bytes, modified on 2020-05-03 08:55\n",
            "\n",
            "[Y]es, [N]o, [A]ll, n[E]ver, [R]ename, [Q]uit Q\n",
            "\n",
            "Program aborted\n"
          ],
          "name": "stdout"
        }
      ]
    },
    {
      "cell_type": "code",
      "metadata": {
        "id": "aNFk7EWes212",
        "colab_type": "code",
        "colab": {}
      },
      "source": [
        "import numpy as np\n",
        "import pandas as pd \n",
        "import matplotlib.pyplot as plt \n",
        "from PIL import Image\n",
        "import tensorflow as tf\n",
        "from tensorflow.keras.preprocessing.image import ImageDataGenerator\n",
        "from tensorflow.keras.applications.vgg16 import VGG16\n",
        "from tensorflow.keras.models import Sequential\n",
        "from tensorflow.keras.layers import Dense,Flatten,Conv2D,MaxPooling2D,Dropout\n",
        "from tensorflow.keras.preprocessing.image import img_to_array\n",
        "from tensorflow.keras.preprocessing.image import load_img\n",
        "from tensorflow.keras.utils import to_categorical\n",
        "from sklearn.preprocessing import LabelBinarizer\n",
        "from sklearn.model_selection import train_test_split\n",
        "from sklearn.metrics import classification_report\n",
        "from imutils import paths\n",
        "import os\n",
        "import cv2"
      ],
      "execution_count": 0,
      "outputs": []
    },
    {
      "cell_type": "code",
      "metadata": {
        "id": "-YzAdYXltj7N",
        "colab_type": "code",
        "outputId": "cf14c68e-9736-486d-fcce-7e87435f56c5",
        "colab": {
          "base_uri": "https://localhost:8080/",
          "height": 34
        }
      },
      "source": [
        "print(\"[INFO] loading images...\")\n",
        "imagePaths = list(paths.list_images('train'))\n",
        "data = []\n",
        "labels = []\n",
        "# loop over the image paths\n",
        "for imagePath in imagePaths:\n",
        "    # extract the class label from the filename\n",
        "    label = imagePath.split(os.path.sep)[-2]\n",
        "    # load the input image (224x224) and preprocess it\n",
        "    image = cv2.imread(imagePath)\n",
        "    image = cv2.resize(image,(224,224))\n",
        "    #image = preprocess_input(image)\n",
        "    # update the data and labels lists, respectively\n",
        "    data.append(image)\n",
        "    labels.append(label)\n",
        "# convert the data and labels to NumPy arrays\n",
        "data = np.array(data, dtype=\"float32\")\n",
        "labels = np.array(labels)"
      ],
      "execution_count": 0,
      "outputs": [
        {
          "output_type": "stream",
          "text": [
            "[INFO] loading images...\n"
          ],
          "name": "stdout"
        }
      ]
    },
    {
      "cell_type": "code",
      "metadata": {
        "id": "TiCCVJ3Otoar",
        "colab_type": "code",
        "colab": {}
      },
      "source": [
        "lb = LabelBinarizer()\n",
        "labels = lb.fit_transform(labels)\n",
        "labels = to_categorical(labels)\n",
        "(trainX, testX, trainY, testY) = train_test_split(data, labels,test_size=0.40, stratify=labels, random_state=42)"
      ],
      "execution_count": 0,
      "outputs": []
    },
    {
      "cell_type": "code",
      "metadata": {
        "id": "H48BZnb0trny",
        "colab_type": "code",
        "colab": {}
      },
      "source": [
        "train_datagen = ImageDataGenerator(rescale = 1./255,rotation_range = 40,shear_range = 0.3,zoom_range = 0.3,horizontal_flip = True)\n",
        "test_datagen = ImageDataGenerator(rescale = 1./255,rotation_range = 40,shear_range = 0.3,zoom_range = 0.3,horizontal_flip = True)\n",
        "\n",
        "train_data = train_datagen.flow(trainX,trainY,batch_size = 32)\n",
        "test_data = test_datagen.flow(testX,testY,batch_size = 32)\n"
      ],
      "execution_count": 0,
      "outputs": []
    },
    {
      "cell_type": "code",
      "metadata": {
        "id": "Dg8H88OPtvQd",
        "colab_type": "code",
        "colab": {}
      },
      "source": [
        "from tensorflow.keras.applications.vgg16 import VGG16\n",
        "modelVGG = Sequential()\n",
        "VGG = VGG16(include_top = False,input_shape = (224,224,3))\n",
        "\n",
        "for i in VGG.layers:\n",
        "    i.trainable = False\n",
        "  "
      ],
      "execution_count": 0,
      "outputs": []
    },
    {
      "cell_type": "code",
      "metadata": {
        "id": "tE1RQFRKt_1f",
        "colab_type": "code",
        "outputId": "a6a7deb8-759e-4fd4-9bd9-a1c4fb98a74c",
        "colab": {
          "base_uri": "https://localhost:8080/",
          "height": 867
        }
      },
      "source": [
        "modelVGG.add(VGG)\n",
        "modelVGG.add(Flatten())\n",
        "modelVGG.add(Dense(512,activation = 'relu'))\n",
        "modelVGG.add(Dense(2,activation = 'sigmoid'))\n",
        "\n",
        "modelVGG.compile(loss = 'binary_crossentropy',optimizer = 'adam',metrics = ['accuracy'])\n",
        "\n",
        "H = modelVGG.fit(train_data,validation_data = test_data,epochs = 25,steps_per_epoch=30,validation_steps = 15)"
      ],
      "execution_count": 0,
      "outputs": [
        {
          "output_type": "stream",
          "text": [
            "Epoch 1/25\n",
            "30/30 [==============================] - 22s 720ms/step - loss: 1.1199 - accuracy: 0.8000 - val_loss: 0.3860 - val_accuracy: 0.8313\n",
            "Epoch 2/25\n",
            "30/30 [==============================] - 21s 716ms/step - loss: 0.2796 - accuracy: 0.8781 - val_loss: 0.2168 - val_accuracy: 0.9229\n",
            "Epoch 3/25\n",
            "30/30 [==============================] - 21s 711ms/step - loss: 0.2191 - accuracy: 0.9042 - val_loss: 0.2076 - val_accuracy: 0.9104\n",
            "Epoch 4/25\n",
            "30/30 [==============================] - 22s 719ms/step - loss: 0.1872 - accuracy: 0.9187 - val_loss: 0.1683 - val_accuracy: 0.9458\n",
            "Epoch 5/25\n",
            "30/30 [==============================] - 21s 714ms/step - loss: 0.1907 - accuracy: 0.9146 - val_loss: 0.1670 - val_accuracy: 0.9312\n",
            "Epoch 6/25\n",
            "30/30 [==============================] - 21s 707ms/step - loss: 0.2322 - accuracy: 0.8865 - val_loss: 0.1765 - val_accuracy: 0.9542\n",
            "Epoch 7/25\n",
            "30/30 [==============================] - 21s 715ms/step - loss: 0.1857 - accuracy: 0.9208 - val_loss: 0.1196 - val_accuracy: 0.9646\n",
            "Epoch 8/25\n",
            "30/30 [==============================] - 21s 712ms/step - loss: 0.1626 - accuracy: 0.9250 - val_loss: 0.1689 - val_accuracy: 0.9187\n",
            "Epoch 9/25\n",
            "30/30 [==============================] - 21s 708ms/step - loss: 0.1432 - accuracy: 0.9344 - val_loss: 0.1724 - val_accuracy: 0.9333\n",
            "Epoch 10/25\n",
            "30/30 [==============================] - 21s 713ms/step - loss: 0.1531 - accuracy: 0.9302 - val_loss: 0.2615 - val_accuracy: 0.8917\n",
            "Epoch 11/25\n",
            "30/30 [==============================] - 21s 715ms/step - loss: 0.2212 - accuracy: 0.9104 - val_loss: 0.2895 - val_accuracy: 0.8813\n",
            "Epoch 12/25\n",
            "30/30 [==============================] - 21s 708ms/step - loss: 0.2587 - accuracy: 0.8979 - val_loss: 0.1514 - val_accuracy: 0.9500\n",
            "Epoch 13/25\n",
            "30/30 [==============================] - 21s 712ms/step - loss: 0.1780 - accuracy: 0.9271 - val_loss: 0.1112 - val_accuracy: 0.9625\n",
            "Epoch 14/25\n",
            "30/30 [==============================] - 21s 713ms/step - loss: 0.1229 - accuracy: 0.9552 - val_loss: 0.1303 - val_accuracy: 0.9625\n",
            "Epoch 15/25\n",
            "30/30 [==============================] - 21s 703ms/step - loss: 0.0938 - accuracy: 0.9667 - val_loss: 0.1398 - val_accuracy: 0.9604\n",
            "Epoch 16/25\n",
            "30/30 [==============================] - 21s 715ms/step - loss: 0.1280 - accuracy: 0.9438 - val_loss: 0.1775 - val_accuracy: 0.9208\n",
            "Epoch 17/25\n",
            "30/30 [==============================] - 21s 716ms/step - loss: 0.1397 - accuracy: 0.9458 - val_loss: 0.1217 - val_accuracy: 0.9646\n",
            "Epoch 18/25\n",
            "30/30 [==============================] - 21s 703ms/step - loss: 0.1150 - accuracy: 0.9552 - val_loss: 0.1258 - val_accuracy: 0.9375\n",
            "Epoch 19/25\n",
            "30/30 [==============================] - 21s 715ms/step - loss: 0.1163 - accuracy: 0.9458 - val_loss: 0.1607 - val_accuracy: 0.9333\n",
            "Epoch 20/25\n",
            "30/30 [==============================] - 21s 712ms/step - loss: 0.1044 - accuracy: 0.9604 - val_loss: 0.1395 - val_accuracy: 0.9396\n",
            "Epoch 21/25\n",
            "30/30 [==============================] - 21s 708ms/step - loss: 0.1099 - accuracy: 0.9635 - val_loss: 0.1338 - val_accuracy: 0.9479\n",
            "Epoch 22/25\n",
            "30/30 [==============================] - 21s 709ms/step - loss: 0.1304 - accuracy: 0.9521 - val_loss: 0.1055 - val_accuracy: 0.9583\n",
            "Epoch 23/25\n",
            "30/30 [==============================] - 21s 714ms/step - loss: 0.1240 - accuracy: 0.9417 - val_loss: 0.2182 - val_accuracy: 0.9021\n",
            "Epoch 24/25\n",
            "30/30 [==============================] - 21s 704ms/step - loss: 0.1088 - accuracy: 0.9521 - val_loss: 0.1200 - val_accuracy: 0.9604\n",
            "Epoch 25/25\n",
            "30/30 [==============================] - 21s 715ms/step - loss: 0.1246 - accuracy: 0.9438 - val_loss: 0.2101 - val_accuracy: 0.9083\n"
          ],
          "name": "stdout"
        }
      ]
    },
    {
      "cell_type": "code",
      "metadata": {
        "id": "zWKLlo90vWUi",
        "colab_type": "code",
        "outputId": "acc14c13-1c82-4dda-bc0d-60eb5e6d3852",
        "colab": {
          "base_uri": "https://localhost:8080/",
          "height": 295
        }
      },
      "source": [
        "%matplotlib inline \n",
        "plt.subplot(1,2,1)\n",
        "plt.plot(H.history['accuracy'])\n",
        "plt.plot(H.history['val_accuracy'])\n",
        "plt.title('Model Accuracy')\n",
        "plt.ylabel('Accuracy')\n",
        "plt.xlabel('epoch')\n",
        "plt.legend(['train','test'])\n",
        "plt.subplot(1,2,2)\n",
        "plt.plot(H.history['loss'])\n",
        "plt.plot(H.history['val_loss'])\n",
        "plt.title('Model Loss')\n",
        "plt.ylabel('Loss')\n",
        "plt.xlabel('epoch')\n",
        "plt.legend(['train','test'])\n",
        "plt.savefig('model_history.jpg')"
      ],
      "execution_count": 0,
      "outputs": [
        {
          "output_type": "display_data",
          "data": {
            "image/png": "[encoded data removed]",
            "text/plain": [
              "<Figure size 432x288 with 2 Axes>"
            ]
          },
          "metadata": {
            "tags": [],
            "needs_background": "light"
          }
        }
      ]
    },
    {
      "cell_type": "code",
      "metadata": {
        "id": "HaIzlQVf5il5",
        "colab_type": "code",
        "colab": {}
      },
      "source": [
        "modelVGG.save('j.h5')"
      ],
      "execution_count": 0,
      "outputs": []
    },
    {
      "cell_type": "code",
      "metadata": {
        "id": "tBhXujYJ5wCm",
        "colab_type": "code",
        "outputId": "688803d8-3684-4eee-b663-d9fefeda9402",
        "colab": {
          "base_uri": "https://localhost:8080/",
          "height": 34
        }
      },
      "source": [
        "modelVGG"
      ],
      "execution_count": 0,
      "outputs": [
        {
          "output_type": "execute_result",
          "data": {
            "text/plain": [
              "<tensorflow.python.keras.engine.sequential.Sequential at 0x7f2716e248d0>"
            ]
          },
          "metadata": {
            "tags": []
          },
          "execution_count": 23
        }
      ]
    },
    {
      "cell_type": "code",
      "metadata": {
        "id": "9cR63vz07dVj",
        "colab_type": "code",
        "colab": {}
      },
      "source": [
        "image = cv2.imread('testImage.jpg')\n",
        "image = cv2.resize(image,(224,224))\n"
      ],
      "execution_count": 0,
      "outputs": []
    },
    {
      "cell_type": "code",
      "metadata": {
        "id": "vlktf98s7pBd",
        "colab_type": "code",
        "colab": {}
      },
      "source": [
        "image = image * 1./255"
      ],
      "execution_count": 0,
      "outputs": []
    },
    {
      "cell_type": "code",
      "metadata": {
        "id": "XoY4F7Hj7y19",
        "colab_type": "code",
        "colab": {}
      },
      "source": [
        "image = image.reshape(1,224,224,3)"
      ],
      "execution_count": 0,
      "outputs": []
    },
    {
      "cell_type": "code",
      "metadata": {
        "id": "y_Vuy2SV74H4",
        "colab_type": "code",
        "outputId": "b50b1b36-04a8-42bb-c063-782936ba2597",
        "colab": {
          "base_uri": "https://localhost:8080/",
          "height": 34
        }
      },
      "source": [
        "modelVGG.predict(image).argmax()"
      ],
      "execution_count": 0,
      "outputs": [
        {
          "output_type": "execute_result",
          "data": {
            "text/plain": [
              "1"
            ]
          },
          "metadata": {
            "tags": []
          },
          "execution_count": 20
        }
      ]
    },
    {
      "cell_type": "code",
      "metadata": {
        "id": "ARqNp1yn7684",
        "colab_type": "code",
        "colab": {}
      },
      "source": [
        "!cp /content/j.h5  /content/drive/My\\ Drive"
      ],
      "execution_count": 0,
      "outputs": []
    },
    {
      "cell_type": "code",
      "metadata": {
        "id": "xyTban958s-W",
        "colab_type": "code",
        "outputId": "07b46ce7-356e-4495-8dd9-b72f34275f7c",
        "colab": {
          "base_uri": "https://localhost:8080/",
          "height": 122
        }
      },
      "source": [
        "from google.colab import drive\n",
        "drive.mount('/content/drive')"
      ],
      "execution_count": 0,
      "outputs": [
        {
          "output_type": "stream",
          "text": [
            "Go to this URL in a browser: https://accounts.google.com/o/oauth2/auth?client_id=947318989803-6bn6qk8qdgf4n4g3pfee6491hc0brc4i.apps.googleusercontent.com&redirect_uri=urn%3aietf%3awg%3aoauth%3a2.0%3aoob&response_type=code&scope=email%20https%3a%2f%2fwww.googleapis.com%2fauth%2fdocs.test%20https%3a%2f%2fwww.googleapis.com%2fauth%2fdrive%20https%3a%2f%2fwww.googleapis.com%2fauth%2fdrive.photos.readonly%20https%3a%2f%2fwww.googleapis.com%2fauth%2fpeopleapi.readonly\n",
            "\n",
            "Enter your authorization code:\n",
            "··········\n",
            "Mounted at /content/drive\n"
          ],
          "name": "stdout"
        }
      ]
    }
  ]
}